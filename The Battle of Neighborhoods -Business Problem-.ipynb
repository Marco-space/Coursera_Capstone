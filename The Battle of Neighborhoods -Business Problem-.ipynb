{
 "cells": [
  {
   "cell_type": "markdown",
   "metadata": {},
   "source": [
    "# <center> The Battle of Neighborhoods: Toronto Canada </center>"
   ]
  },
  {
   "cell_type": "markdown",
   "metadata": {},
   "source": [
    "***"
   ]
  },
  {
   "cell_type": "markdown",
   "metadata": {},
   "source": [
    "## Introduction"
   ]
  },
  {
   "cell_type": "markdown",
   "metadata": {},
   "source": [
    "<div style=\"text-align: justify\"> \n",
    "Toronto is the capital city of the Canadian province of Ontario.  It is the most populous city in Canada and the fourth most populous city in North America with approximately 2,731,571 habitants. It is an international centre of business, finance, arts, and culture, and is recognized as one of the most multicultural and cosmopolitan cities in the world. \n",
    "Its varied cultural institutions, which include numerous museums and galleries, festivals and public events, entertainment districts, national historic sites, and sports activities, attract over 43 million tourists each year.\n",
    "<div style=\"text-align: justify\"> \n",
    "</div>\n",
    "The purpose of this project is to examine and analize Toronto's neighborhoods with the aim to identify the most appropiate place to open a fitness center. This industry is highly remunerated since specially in the last decades people have become more concious about having a healthy lifestyle. The idea is to design a place where people can be part of a fitness community, make thousand of friends, being able to develop a huge variety of activities, to stay in shape and with the body of their dreams while having too much fun. \n",
    "</div>"
   ]
  },
  {
   "cell_type": "markdown",
   "metadata": {},
   "source": [
    "## Business Problem"
   ]
  },
  {
   "cell_type": "markdown",
   "metadata": {},
   "source": [
    "* Identify the best location in Toronto, CAD for opening a new fitness center\n",
    "* Make a data analysis to extract some statistics as:\n",
    "    * Gyms per borough\n",
    "    * Gyms per neighborhood\n",
    "* Understand the market competitiveness identifying the best gyms in whole city bases on:\n",
    "    * likes\n",
    "    * rating\n",
    "    * tips"
   ]
  },
  {
   "cell_type": "markdown",
   "metadata": {},
   "source": [
    "## Data"
   ]
  },
  {
   "cell_type": "markdown",
   "metadata": {},
   "source": [
    "* We are going to make a deeply data analysis using the [foursquareAPI](https://foursquare.com/) from which we collect some geographical information for each neighborhood based on [Postcode_CAD](https://en.wikipedia.org/wiki/List_of_postal_codes_of_Canada:_M) resource that shows a list of postal codes of Canada."
   ]
  }
 ],
 "metadata": {
  "kernelspec": {
   "display_name": "Python 3",
   "language": "python",
   "name": "python3"
  },
  "language_info": {
   "codemirror_mode": {
    "name": "ipython",
    "version": 3
   },
   "file_extension": ".py",
   "mimetype": "text/x-python",
   "name": "python",
   "nbconvert_exporter": "python",
   "pygments_lexer": "ipython3",
   "version": "3.8.5"
  }
 },
 "nbformat": 4,
 "nbformat_minor": 4
}
